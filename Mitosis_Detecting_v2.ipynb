{
 "cells": [
  {
   "cell_type": "markdown",
   "metadata": {},
   "source": [
    "## 千兆病理图像癌细胞转移检测\n",
    "## Detecting Cancer Metastases on Gigapixel Pathology Images"
   ]
  },
  {
   "cell_type": "code",
   "execution_count": 1,
   "metadata": {},
   "outputs": [
    {
     "name": "stdout",
     "output_type": "stream",
     "text": [
      "Detecting_Cancer_Metastases_on_Gigapixel_Pathology_Images.ipynb\r\n",
      "\u001b[0m\u001b[38;5;27mDetecting_Cancer_metastases\u001b[0m/\r\n",
      "Mitosis_Detecting.ipynb\r\n",
      "Mitosis_Detecting_v2.ipynb\r\n",
      "\u001b[38;5;27mcamelyon\u001b[0m/\r\n",
      "data_preprocessing-latest.ipynb\r\n",
      "data_preprocessing-nerd.ipynb\r\n",
      "data_preprocessing.ipynb\r\n",
      "\u001b[38;5;27mdata_preprocessing_of_camelyon\u001b[0m/\r\n",
      "data_processing.ipynb\r\n",
      "download_Inception_V3.ipynb\r\n",
      "retrain.ipynb\r\n"
     ]
    }
   ],
   "source": [
    "ls"
   ]
  },
  {
   "cell_type": "code",
   "execution_count": 2,
   "metadata": {},
   "outputs": [
    {
     "data": {
      "text/plain": [
       "'/atlas/home/zwpeng/paper_rebuild'"
      ]
     },
     "execution_count": 2,
     "metadata": {},
     "output_type": "execute_result"
    }
   ],
   "source": [
    "pwd"
   ]
  },
  {
   "cell_type": "code",
   "execution_count": 3,
   "metadata": {
    "collapsed": true
   },
   "outputs": [],
   "source": [
    "import openslide\n",
    "import numpy as np\n",
    "from pylab import *\n",
    "\n",
    "# 读取包含有肿瘤区域的大图（全切片病理图像）\n",
    "origin_images_path = \"/atlas/home/zwpeng/paper_rebuild/camelyon/train/tumor/origin_images/Tumor_005.tif\"\n",
    "origin_slide = openslide.open_slide(origin_images_path)\n",
    "\n",
    "# 读取该肿瘤区域的标注图\n",
    "annotation_images_path = \"/atlas/home/zwpeng/paper_rebuild/camelyon/train/tumor/annotation_images/Tumor_005_Mask.tif\"\n",
    "mask_slide = openslide.open_slide(annotation_images_path)"
   ]
  },
  {
   "cell_type": "code",
   "execution_count": 4,
   "metadata": {},
   "outputs": [],
   "source": [
    "# origin_slide.level_count,origin_slide.level_dimensions,origin_slide.level_downsamples     #查看病理图片的金字塔结构"
   ]
  },
  {
   "cell_type": "code",
   "execution_count": 5,
   "metadata": {},
   "outputs": [],
   "source": [
    "# mask_slide.level_count,mask_slide.level_dimensions,mask_slide.level_downsamples     #查看标注图片的金字塔结构"
   ]
  },
  {
   "cell_type": "markdown",
   "metadata": {},
   "source": [
    "### 首先找到感兴趣区域"
   ]
  },
  {
   "cell_type": "code",
   "execution_count": 6,
   "metadata": {
    "collapsed": true
   },
   "outputs": [],
   "source": [
    "level = 6\n",
    "origin_size = origin_slide.dimensions\n",
    "origin_widths = origin_size[0]\n",
    "origin_heights = origin_size[1]\n",
    "\n",
    "object_size = origin_slide.level_dimensions[level]\n",
    "object_widths = int(object_size[0])\n",
    "object_heights = object_size[1]"
   ]
  },
  {
   "cell_type": "code",
   "execution_count": 7,
   "metadata": {},
   "outputs": [
    {
     "name": "stdout",
     "output_type": "stream",
     "text": [
      "[57, 58, 59, 60, 61, 62, 63, 64, 65, 66, 67, 68, 71, 72, 73, 74, 75, 76, 77, 78]\n",
      "有效区域的ｙ值是：125199 有效区域的高度是：50518\n",
      "[19, 20, 21, 22, 23, 24, 25, 26, 27, 28, 29, 30, 31, 32, 33, 34, 35, 36, 37, 38, 39, 40, 41, 42, 43, 44, 45, 46, 47, 48, 49, 50, 51, 52, 53, 54, 55, 56, 57, 58, 59]\n",
      "有效区域的ｘ值是：18580 有效区域的宽度是：41071\n",
      "本次程序运行时间是 3.342803 秒\n"
     ]
    }
   ],
   "source": [
    "# 方法三：通过获取每一块区域的像素值R G B各自的平均数，然后相减，设置一个阈值，将噪点（墨迹）和有效区　分开\n",
    "\n",
    "import time\n",
    "from pylab import *\n",
    "import numpy as np\n",
    "\n",
    "start_time = time.clock()\n",
    "level = 6\n",
    "\n",
    "rgb_list_y = list()\n",
    "rgb_list_x = list()\n",
    "rgb_var_x = []\n",
    "rgb_var_y = []\n",
    "rgb_var_xi = []\n",
    "rgb_var_yi = []\n",
    "\n",
    "# 寻找有效区域的y值、高度\n",
    "for k in range(100):\n",
    "    slide = origin_slide.read_region((0, k*origin_heights//100), level, (object_widths, object_heights//50)) \n",
    "    slide_arr = array(slide.convert(\"RGB\"))\n",
    "    arrR = np.mean(slide_arr[:,:,:1])\n",
    "    arrG = np.mean(slide_arr[:,:,1:2])\n",
    "    arrB = np.mean(slide_arr[:,:,2:3])\n",
    "    rgb_list_y.append((arrR,arrG,arrB))\n",
    "for i,rgbVar in enumerate(rgb_list_y):\n",
    "    rgb_var_y.append(np.var(rgbVar))\n",
    "    if np.var(rgbVar)>=1:\n",
    "        rgb_var_yi.append(i)\n",
    "\n",
    "print(rgb_var_yi)\n",
    "effective_y = min(rgb_var_yi)*origin_heights//100        #有效区域的左上顶点y坐标找到了\n",
    "effective_heights = (max(rgb_var_yi)-min(rgb_var_yi))*origin_heights//100 + origin_heights//50  #有效区域的高度也出来了\n",
    "print(\"有效区域的ｙ值是：%d\" %effective_y, \"有效区域的高度是：%d\" %effective_heights)\n",
    "\n",
    "# 寻找有效区域的x值、宽度\n",
    "for j in range(100):\n",
    "    slide = origin_slide.read_region((j*origin_widths//100, effective_y), level, \n",
    "                                      (object_widths//50, effective_heights//62))     # 循环顺序读取50宽的区域\n",
    "#     slide = origin_slide.read_region((j*origin_widths//100, 0), level, \n",
    "#                                       (object_widths//50, object_heights))     # 循环顺序读取50宽的区域\n",
    "    \n",
    "    slide_arr = array(slide.convert(\"RGB\"))\n",
    "    arrR = np.mean(slide_arr[:,:,:1])\n",
    "    arrG = np.mean(slide_arr[:,:,1:2])\n",
    "    arrB = np.mean(slide_arr[:,:,2:3])\n",
    "    rgb_list_x.append((arrR,arrG,arrB))\n",
    "for i,rgbVar in enumerate(rgb_list_x):\n",
    "    rgb_var_x.append(np.var(rgbVar))\n",
    "    if np.var(rgbVar)>=2:\n",
    "        rgb_var_xi.append(i)\n",
    "\n",
    "print(rgb_var_xi)\n",
    "effective_x = min(rgb_var_xi)*origin_widths//100        # 有效区域的左上顶点y坐标找到了\n",
    "effective_widths = (max(rgb_var_xi) - min(rgb_var_xi))*origin_widths//100 + origin_widths//50  # 有效区域的宽度也出来了\n",
    "print(\"有效区域的ｘ值是：%d\" %effective_x, \"有效区域的宽度是：%d\" %effective_widths)\n",
    "# plt.plot(range(100), rgb_var_y[:100], label='rgb_var_curve')\n",
    "# plt.plot(range(100), rgb_var_x[:100], label='rgb_var_curve')\n",
    "# plt.legend()\n",
    "# plt.show()\n",
    "\n",
    "end_time = time.clock()\n",
    "print(\"本次程序运行时间是 %f 秒\" %(end_time-start_time))"
   ]
  },
  {
   "cell_type": "code",
   "execution_count": 8,
   "metadata": {},
   "outputs": [
    {
     "data": {
      "text/plain": [
       "((18580, 125199), (41071, 50518))"
      ]
     },
     "execution_count": 8,
     "metadata": {},
     "output_type": "execute_result"
    }
   ],
   "source": [
    "# 有效区域（感兴趣区域）\n",
    "effective_area = (effective_x, effective_y)\n",
    "effective_area_size = (effective_widths, effective_heights)\n",
    "effective_area,effective_area_size"
   ]
  },
  {
   "cell_type": "markdown",
   "metadata": {},
   "source": [
    "这个有效区域，经过手动调试，起点坐标：(17600,124700) ，区域长宽：(44800,57600)\n",
    "\n",
    "\n",
    "\n",
    "### mask 的有效区域，定位比较容易"
   ]
  },
  {
   "cell_type": "code",
   "execution_count": 9,
   "metadata": {},
   "outputs": [],
   "source": [
    "from pylab import *\n",
    "import numpy as np\n",
    "mask_level = 7\n",
    "\n",
    "# level0　的尺寸\n",
    "mask_size = mask_slide.dimensions\n",
    "mask_widths = mask_size[0]\n",
    "mask_heights = mask_size[1]\n",
    "# level7 的尺寸\n",
    "mask_level_size = mask_slide.level_dimensions[mask_level]\n",
    "mask_level_widths = mask_level_size[0]\n",
    "mask_level_heights = mask_level_size[1]\n",
    "\n",
    "mask_level_slide = mask_slide.read_region((0, 0), mask_level, (mask_level_widths, mask_level_heights))\n",
    "mask_level_slide_gray = mask_level_slide.convert(\"L\")\n",
    "mask_level_slide_arr = array(mask_level_slide_gray)\n",
    "\n",
    "mask_y, mask_x = nonzero(mask_level_slide_arr)  # 因为mask是黑白图，只需直接获得非零像素的坐标\n",
    "# mask_x, mask_y"
   ]
  },
  {
   "cell_type": "code",
   "execution_count": 10,
   "metadata": {},
   "outputs": [
    {
     "data": {
      "text/plain": [
       "((451, 1066), (465, 1093))"
      ]
     },
     "execution_count": 10,
     "metadata": {},
     "output_type": "execute_result"
    }
   ],
   "source": [
    "# 有效区域（感兴趣区域）level7上的\n",
    "mask_effective_leftup_point = (min(mask_x), min(mask_y))\n",
    "mask_effective_rightdown_point = (max(mask_x), max(mask_y))\n",
    "\n",
    "mask_effective_leftup_point,mask_effective_rightdown_point"
   ]
  },
  {
   "cell_type": "code",
   "execution_count": 11,
   "metadata": {},
   "outputs": [
    {
     "data": {
      "text/plain": [
       "((57600, 136320), (59648, 140032))"
      ]
     },
     "execution_count": 11,
     "metadata": {},
     "output_type": "execute_result"
    }
   ],
   "source": [
    "mask_tumor_start = ((min(mask_x)-1) * int(mask_slide.level_downsamples[7]), \n",
    "                    (min(mask_y)-1) * int(mask_slide.level_downsamples[7]))\n",
    "mask_tumor_end = ((max(mask_x)+1) * int(mask_slide.level_downsamples[7]), \n",
    "                  (max(mask_y)+1) * int(mask_slide.level_downsamples[7]))\n",
    "\n",
    "mask_tumor_start, mask_tumor_end    # mask level0 图中tumor所在区域的起点和终点"
   ]
  },
  {
   "cell_type": "code",
   "execution_count": 12,
   "metadata": {},
   "outputs": [
    {
     "name": "stdout",
     "output_type": "stream",
     "text": [
      "57600 136320 59648 140032\n"
     ]
    }
   ],
   "source": [
    "tumor_leftup_x = (min(mask_x)-1) * int(mask_slide.level_downsamples[7])\n",
    "tumor_leftup_y = (min(mask_y)-1) * int(mask_slide.level_downsamples[7])\n",
    "tumor_rightdown_x = (max(mask_x)+1) * int(mask_slide.level_downsamples[7])\n",
    "tumor_rightdown_y = (max(mask_y)+1) * int(mask_slide.level_downsamples[7])\n",
    "print(tumor_leftup_x,tumor_leftup_y,tumor_rightdown_x,tumor_rightdown_y)"
   ]
  },
  {
   "cell_type": "code",
   "execution_count": 13,
   "metadata": {},
   "outputs": [
    {
     "data": {
      "text/plain": [
       "(2048, 3712)"
      ]
     },
     "execution_count": 13,
     "metadata": {},
     "output_type": "execute_result"
    }
   ],
   "source": [
    "mask_tumor_area = ((max(mask_x)-min(mask_x)+2)*int(mask_slide.level_downsamples[7]), \n",
    "                   (max(mask_y)-min(mask_y)+2)*int(mask_slide.level_downsamples[7]))\n",
    "mask_tumor_area        # mask区域的长宽"
   ]
  },
  {
   "cell_type": "code",
   "execution_count": 14,
   "metadata": {
    "collapsed": true
   },
   "outputs": [],
   "source": [
    "# mask_slide.read_region(mask_tumor_start, 0, mask_tumor_area) \n",
    "# mask_tumor_start 和　mask_tumor_area 这两个参数后面要用到"
   ]
  },
  {
   "cell_type": "code",
   "execution_count": 15,
   "metadata": {},
   "outputs": [
    {
     "name": "stderr",
     "output_type": "stream",
     "text": [
      "Using TensorFlow backend.\n"
     ]
    }
   ],
   "source": [
    "import time\n",
    "import numpy as np\n",
    "from PIL.Image import Image\n",
    "from pylab import *\n",
    "from keras.preprocessing import image\n",
    "from keras.utils.np_utils import to_categorical\n",
    "import matplotlib.pyplot as plt\n",
    "\n",
    "start_time = time.clock()\n",
    "\n",
    "widths = 299\n",
    "heights = 299\n",
    "\n",
    "# 有效区域（感兴趣区域），所有细胞聚集区\n",
    "# effective_area = (effective_x, effective_y)\n",
    "# effective_area_size = (effective_widths, effective_heights)\n",
    "# 有效区域，所有标注的细胞聚集区\n",
    "# mask_slide.read_region(mask_tumor_start, 0, mask_tumor_area) \n",
    "# random_img = origin_slide.read_region((random_x,random_y),0,(widths,heights))  # 这一区域就是随机读到的区域，\n",
    "                                                            #接下来就要判断这个区域在哪里，应该给他贴上什么标签\n",
    "\n",
    "# 随机生成一个０到１之间的数，判断是否大于0.5,如果大于0.5,就从tumor区（mask）获取随机点（产生随机图片）；\n",
    "# 如果小于0.5,就从normal区获取随机点，产生的随机图片需要判断是否取到了tumor\n",
    "# def train_generator(widths=299, heights=299):\n",
    "# for i in range(10):\n",
    "def data_generator(widths=299,heights=299):\n",
    "    while True:\n",
    "        random_num = np.random.random(1)\n",
    "        print(random_num)\n",
    "\n",
    "        if random_num > 0.5:\n",
    "            # 定义随机坐标,一定要取到一张含有tumor的图片\n",
    "            random_x = np.random.randint(tumor_leftup_x, tumor_rightdown_x - widths)    # mask上的tumor有效区的起点和终点\n",
    "            random_y = np.random.randint(tumor_leftup_y, tumor_rightdown_y - heights)\n",
    "            print(\"取tumor随机点坐标是：%d,%d\"%(random_x,random_y))\n",
    "            random_img_mask = mask_slide.read_region((random_x,random_y),0,(widths,heights))\n",
    "            random_img_mask_arr = array(random_img_mask.convert(\"L\"))\n",
    "            random__img_y, random_img_x = nonzero(random_img_mask_arr)\n",
    "            while len(random_img_x)==0:\n",
    "                random_x = np.random.randint(tumor_leftup_x, tumor_rightdown_x - widths)\n",
    "                random_y = np.random.randint(tumor_leftup_y, tumor_rightdown_y - heights)\n",
    "                print(\"取tumor随机点坐标是：%d,%d\"%(random_x,random_y))\n",
    "                random_img_mask = mask_slide.read_region((random_x,random_y),0,(widths,heights))\n",
    "                random_img_mask_arr = array(random_img_mask.convert(\"L\"))\n",
    "                random__img_y, random_img_x = nonzero(random_img_mask_arr)\n",
    "\n",
    "            #*********************上面这个 while 循环结束后，就产生了一个合格的坐标点*********************#\n",
    "            random_img = origin_slide.read_region((random_x,random_y),0,(widths,heights))\n",
    "    #         plt.imshow(random_img)\n",
    "    #         plt.show()\n",
    "            #***接下来就给他贴标签，并处理成训练所需的数据结构***#\n",
    "            random_img_arr = array(random_img.convert(\"RGB\"))\n",
    "            x = np.expand_dims(random_img_arr, axis=0)/255.\n",
    "            y = to_categorical(0,2)    \n",
    "        else:\n",
    "            # 定义随机坐标，一定要取到一张不含有tumor的normal图片\n",
    "            random_x = np.random.randint(effective_x,effective_x+effective_widths-widths)   # 大图上,nomal有效区的起点和终点\n",
    "            random_y = np.random.randint(effective_y,effective_y+effective_heights-heights)\n",
    "            print(\"取normal随机点坐标是：%d,%d\"%(random_x,random_y))\n",
    "            random_img_mask = mask_slide.read_region((random_x,random_y),0,(widths,heights))\n",
    "            random_img_mask_arr = array(random_img_mask.convert(\"L\"))\n",
    "            random__img_y, random_img_x = nonzero(random_img_mask_arr)\n",
    "            while len(random_img_x) != 0:\n",
    "                random_x = np.random.randint(effective_x,effective_x+effective_widths-widths)\n",
    "                random_y = np.random.randint(effective_y,effective_y+effective_heights-heights)\n",
    "                print(\"取normal随机点坐标是：%d,%d\" %(random_x,random_y))\n",
    "                random_img_mask = mask_slide.read_region((random_x,random_y),0,(widths,heights))\n",
    "                random_img_mask_arr = array(random_img_mask.convert(\"L\"))\n",
    "                random__img_y, random_img_x = nonzero(random_img_mask_arr)\n",
    "\n",
    "            #*********************上面这个 while 循环结束后，就产生了一个合格的坐标点*********************#\n",
    "            random_img = origin_slide.read_region((random_x,random_y),0,(widths,heights))\n",
    "    #         plt.imshow(random_img)\n",
    "    #         plt.show()\n",
    "            #***接下来就给他贴标签，并处理成训练所需的数据结构***#\n",
    "            random_img_arr = array(random_img.convert(\"RGB\"))\n",
    "            x = np.expand_dims(random_img_arr, axis=0)/255.\n",
    "            y = to_categorical(1,2) \n",
    "        yield (x,y)"
   ]
  },
  {
   "cell_type": "markdown",
   "metadata": {
    "collapsed": true
   },
   "source": [
    "\n",
    "接下来可以开始训练了。"
   ]
  },
  {
   "cell_type": "code",
   "execution_count": null,
   "metadata": {
    "collapsed": true
   },
   "outputs": [],
   "source": [
    "from keras.applications.inception_v3 import InceptionV3\n",
    "from keras.models import Model\n",
    "from keras.layers import Dense, Flatten, Dropout, Activation, BatchNormalization\n",
    "from keras.optimizers import SGD\n",
    "\n",
    "\n",
    "def Creat_InvepV3(num_lay_out=64,classes=2,dropout=0.5):\n",
    "    img_width, img_height = 299, 299\n",
    "    base_model = InceptionV3(weights=\"imagenet\", include_top=False,\n",
    "                             input_shape=(img_width, img_height, 3))\n",
    "    x = base_model.output\n",
    "    x = Flatten()(x)\n",
    "    x = Dense(num_lay_out)(x)\n",
    "    x = BatchNormalization()(x)\n",
    "    x = Activation('relu')(x)\n",
    "    x = Dropout(dropout)(x)\n",
    "    x = Dense(classes)(x)\n",
    "    x = BatchNormalization()(x)\n",
    "    x = Activation('softmax')(x)\n",
    "    model = Model(inputs=base_model.input, outputs=x)\n",
    "    model.compile(optimizer=SGD(lr=1e-4, momentum=0.4, decay=1e-6),\n",
    "                  loss='categorical_crossentropy', metrics=['accuracy'])\n",
    "    return model"
   ]
  },
  {
   "cell_type": "code",
   "execution_count": 16,
   "metadata": {
    "collapsed": true
   },
   "outputs": [],
   "source": [
    "from keras.applications.inception_v3 import InceptionV3\n",
    "from keras.models import Model\n",
    "from keras.layers import Dense, Flatten, Dropout, Activation, BatchNormalization\n",
    "from keras.layers import GlobalAveragePooling2D\n",
    "from keras.optimizers import SGD\n",
    "\n",
    "\n",
    "def Creat_InvepV3(num_lay_out=1024,classes=2,dropout=0.5):\n",
    "    img_width, img_height = 299, 299\n",
    "    base_model = InceptionV3(weights=\"imagenet\", include_top=False,\n",
    "                             input_shape=(img_width, img_height, 3))\n",
    "    x = base_model.output\n",
    "    # x = Flatten()(x)\n",
    "    # x = Dense(num_lay_out)(x)\n",
    "    # x = BatchNormalization()(x)\n",
    "    # x = Activation('relu')(x)\n",
    "    # x = Dropout(dropout)(x)\n",
    "    # x = Dense(classes)(x)\n",
    "    # x = BatchNormalization()(x)\n",
    "    # x = Activation('softmax')(x)\n",
    "    x = GlobalAveragePooling2D()(x)\n",
    "    x = Dense(num_lay_out, activation='relu')(x)\n",
    "    predictions = Dense(classes, activation='softmax')(x)\n",
    "    model = Model(inputs=base_model.input, outputs=predictions)\n",
    "    model.compile(optimizer=SGD(lr=1e-4, momentum=0.9),\n",
    "                  loss='categorical_crossentropy', metrics=['accuracy'])\n",
    "    return model"
   ]
  },
  {
   "cell_type": "code",
   "execution_count": 18,
   "metadata": {},
   "outputs": [
    {
     "name": "stdout",
     "output_type": "stream",
     "text": [
      "[ 0.53591855]\n",
      "取tumor随机点坐标是：57877,136942\n",
      "取tumor随机点坐标是：59159,137311\n",
      "取tumor随机点坐标是：59273,138226\n",
      "取tumor随机点坐标是：58767,138587\n",
      "[ 0.48391793]\n",
      "取normal随机点坐标是：47285,128119\n",
      "[ 0.52511982]\n",
      "取tumor随机点坐标是：58667,138465\n",
      "[ 0.50758334]\n",
      "取tumor随机点坐标是：57915,139284\n",
      "取tumor随机点坐标是：58030,138219\n",
      "[ 0.25020268]\n",
      "取normal随机点坐标是：25985,140715\n",
      "[ 0.02454581]\n",
      "取normal随机点坐标是：53522,154215\n",
      "[ 0.51841799]\n",
      "取tumor随机点坐标是：57754,136622\n",
      "取tumor随机点坐标是：59169,139621\n",
      "[ 0.85385961]\n",
      "取tumor随机点坐标是：57944,137320\n",
      "[ 0.03623745]\n",
      "取normal随机点坐标是：59111,136020\n",
      "[ 0.37847014]\n",
      "取normal随机点坐标是：18922,160071\n",
      "[ 0.2748491]\n",
      "取normal随机点坐标是：34563,137889\n",
      "[ 0.69319939]\n",
      "取tumor随机点坐标是：58212,139142\n",
      "[ 0.16805972]\n",
      "取normal随机点坐标是：54370,161862\n",
      "[ 0.02155465]\n",
      "取normal随机点坐标是：43698,127639\n",
      "[ 0.74484917]\n",
      "取tumor随机点坐标是：59266,138904\n",
      "[ 0.06389416]\n",
      "取normal随机点坐标是：40127,156910\n",
      "[ 0.71434665]\n",
      "取tumor随机点坐标是：57675,136748\n",
      "取tumor随机点坐标是：57946,136508\n",
      "取tumor随机点坐标是：58391,137953\n",
      "[ 0.36583053]\n",
      "取normal随机点坐标是：40907,168710\n",
      "[ 0.6819273]\n",
      "取tumor随机点坐标是：58453,136338\n",
      "[ 0.54186787]\n",
      "取tumor随机点坐标是：58232,136650\n",
      "[ 0.53836345]\n",
      "取tumor随机点坐标是：58808,139290\n",
      "[ 0.66677689]\n",
      "取tumor随机点坐标是：59348,136852\n",
      "取tumor随机点坐标是：58730,138571\n",
      "[ 0.82957559]\n",
      "取tumor随机点坐标是：58028,136882\n",
      "取tumor随机点坐标是：58661,138147\n",
      "[ 0.01793568]\n",
      "取normal随机点坐标是：39955,131971\n",
      "[ 0.34160635]\n",
      "取normal随机点坐标是：18913,165027\n",
      "[ 0.21227512]\n",
      "取normal随机点坐标是：57769,173967\n",
      "[ 0.77330405]\n",
      "取tumor随机点坐标是：59001,138511\n",
      "[ 0.92321025]\n",
      "取tumor随机点坐标是：59324,137864\n",
      "[ 0.03601661]\n",
      "取normal随机点坐标是：41618,128448\n",
      "[ 0.21826682]\n",
      "取normal随机点坐标是：26030,125760\n",
      "[ 0.9221616]\n",
      "取tumor随机点坐标是：58094,137855\n",
      "[ 0.06198342]\n",
      "取normal随机点坐标是：44151,150640\n",
      "[ 0.66102073]\n",
      "取tumor随机点坐标是：58642,138086\n",
      "[ 0.01703118]\n",
      "取normal随机点坐标是：38777,128478\n",
      "[ 0.14201883]\n",
      "取normal随机点坐标是：52452,129705\n",
      "[ 0.40123592]\n",
      "取normal随机点坐标是：32479,136674\n",
      "[ 0.89221445]\n",
      "取tumor随机点坐标是：58087,139430\n",
      "[ 0.66361139]\n",
      "取tumor随机点坐标是：58783,136599\n",
      "取tumor随机点坐标是：58552,138162\n",
      "[ 0.55248897]\n",
      "取tumor随机点坐标是：58754,137860\n",
      "[ 0.26938897]\n",
      "取normal随机点坐标是：33759,149395\n",
      "[ 0.4720287]\n",
      "取normal随机点坐标是：26853,142228\n",
      "[ 0.92193352]\n",
      "取tumor随机点坐标是：57783,136984\n",
      "[ 0.37431088]\n",
      "取normal随机点坐标是：32947,146791\n",
      "[ 0.89325876]\n",
      "取tumor随机点坐标是：58546,138798\n",
      "[ 0.18492396]\n",
      "取normal随机点坐标是：27427,167171\n",
      "[ 0.03554864]\n",
      "取normal随机点坐标是：35199,133404\n",
      "[ 0.01126279]\n",
      "取normal随机点坐标是：30802,168760\n",
      "[ 0.06054005]\n",
      "取normal随机点坐标是：37997,161222\n",
      "[ 0.85906887]\n",
      "取tumor随机点坐标是：58895,138417\n",
      "[ 0.05910702]\n",
      "取normal随机点坐标是：38705,168982\n",
      "[ 0.85392728]\n",
      "取tumor随机点坐标是：59075,137971\n",
      "[ 0.16094852]\n",
      "取normal随机点坐标是：37409,129322\n",
      "[ 0.17346675]\n",
      "取normal随机点坐标是：27698,129786\n",
      "[ 0.62302505]\n",
      "取tumor随机点坐标是：59091,136795\n",
      "取tumor随机点坐标是：59047,138632\n",
      "[ 0.71691321]\n",
      "取tumor随机点坐标是：57655,137673\n",
      "[ 0.69005998]\n",
      "取tumor随机点坐标是：58462,136698\n",
      "[ 0.7343549]\n",
      "取tumor随机点坐标是：58249,136792\n",
      "[ 0.11014716]\n",
      "取normal随机点坐标是：58675,131617\n",
      "[ 0.64568518]\n",
      "取tumor随机点坐标是：59115,138933\n",
      "取tumor随机点坐标是：58099,138703\n",
      "取tumor随机点坐标是：58692,137024\n",
      "取tumor随机点坐标是：59187,138432\n",
      "[ 0.22847446]\n",
      "取normal随机点坐标是：47750,134657\n",
      "[ 0.9814947]\n",
      "取tumor随机点坐标是：57623,136377\n",
      "取tumor随机点坐标是：58297,137457\n",
      "[ 0.8909982]\n",
      "取tumor随机点坐标是：58982,139429\n",
      "[ 0.87243221]\n",
      "取tumor随机点坐标是：59124,138226\n",
      "[ 0.51272302]\n",
      "取tumor随机点坐标是：57827,138217\n",
      "[ 0.16979574]\n",
      "取normal随机点坐标是：36407,169328\n",
      "[ 0.49300432]\n",
      "取normal随机点坐标是：40685,173544\n",
      "[ 0.88026471]\n",
      "取tumor随机点坐标是：57990,136351\n",
      "[ 0.99493388]\n",
      "取tumor随机点坐标是：57747,137330\n",
      "[ 0.93717842]\n",
      "取tumor随机点坐标是：57874,139322\n",
      "取tumor随机点坐标是：58325,136380\n",
      "[ 0.59337896]\n",
      "取tumor随机点坐标是：57759,137584\n",
      "[ 0.29527177]\n",
      "取normal随机点坐标是：19656,134908\n",
      "[ 0.20115813]\n",
      "取normal随机点坐标是：48766,138004\n",
      "[ 0.90340786]\n",
      "取tumor随机点坐标是：57901,136701\n",
      "取tumor随机点坐标是：58461,138421\n",
      "[ 0.14056825]\n",
      "取normal随机点坐标是：21723,150592\n",
      "[ 0.33945529]\n",
      "取normal随机点坐标是：18639,168732\n",
      "[ 0.92917712]\n",
      "取tumor随机点坐标是：58548,136663\n",
      "[ 0.79362084]\n",
      "取tumor随机点坐标是：59079,137778\n",
      "[ 0.45652492]\n",
      "取normal随机点坐标是：57664,142938\n",
      "[ 0.88140793]\n",
      "取tumor随机点坐标是：58716,136679\n",
      "[ 0.6655287]\n",
      "取tumor随机点坐标是：57666,137172\n",
      "[ 0.64797869]\n",
      "取tumor随机点坐标是：58094,136569\n",
      "[ 0.43953767]\n",
      "取normal随机点坐标是：34050,153496\n",
      "[ 0.5799632]\n",
      "取tumor随机点坐标是：57660,139411\n",
      "取tumor随机点坐标是：57624,139460\n",
      "取tumor随机点坐标是：58983,137424\n",
      "取tumor随机点坐标是：58528,136718\n",
      "[ 0.4806524]\n",
      "取normal随机点坐标是：50874,125421\n",
      "[ 0.37175321]\n",
      "取normal随机点坐标是：58370,167479\n",
      "[ 0.46590097]\n",
      "取normal随机点坐标是：23267,148300\n",
      "[ 0.25318841]\n",
      "取normal随机点坐标是：38399,174229\n",
      "[ 0.81742444]\n",
      "取tumor随机点坐标是：58303,138257\n",
      "[ 0.48081683]\n",
      "取normal随机点坐标是：52193,169297\n",
      "[ 0.60583617]\n",
      "取tumor随机点坐标是：58198,138633\n",
      "[ 0.24027591]\n",
      "取normal随机点坐标是：40065,171339\n",
      "[ 0.28274844]\n",
      "取normal随机点坐标是：58801,125334\n",
      "[ 0.517811]\n",
      "取tumor随机点坐标是：58267,137521\n",
      "[ 0.97749523]\n",
      "取tumor随机点坐标是：58148,139257\n",
      "[ 0.7398]\n",
      "取tumor随机点坐标是：57887,139685\n",
      "取tumor随机点坐标是：59299,136532\n",
      "取tumor随机点坐标是：57834,136549\n",
      "取tumor随机点坐标是：58054,138362\n",
      "[ 0.20097905]\n",
      "取normal随机点坐标是：31004,159632\n",
      "[ 0.87387391]\n",
      "取tumor随机点坐标是：59112,138336\n",
      "[ 0.65221229]\n",
      "取tumor随机点坐标是：59033,138461\n",
      "[ 0.90042337]\n",
      "取tumor随机点坐标是：58265,137763\n",
      "[ 0.22211395]\n",
      "取normal随机点坐标是：49797,139635\n",
      "[ 0.62140658]\n",
      "取tumor随机点坐标是：58729,138044\n",
      "[ 0.40691851]\n",
      "取normal随机点坐标是：28027,133964\n",
      "[ 0.95235167]\n",
      "取tumor随机点坐标是：57960,139317\n",
      "取tumor随机点坐标是：58222,138923\n",
      "取tumor随机点坐标是：58304,139631\n",
      "[ 0.57970486]\n",
      "取tumor随机点坐标是：59189,136821\n",
      "取tumor随机点坐标是：57999,136834\n",
      "取tumor随机点坐标是：57968,138585\n",
      "取tumor随机点坐标是：59088,137560\n",
      "[ 0.11519796]\n",
      "取normal随机点坐标是：28261,137473\n",
      "[ 0.52074229]\n",
      "取tumor随机点坐标是：58682,137270\n",
      "[ 0.35061366]\n",
      "取normal随机点坐标是：20289,172887\n",
      "[ 0.84079525]\n",
      "取tumor随机点坐标是：59244,138472\n",
      "[ 0.38428638]\n",
      "取normal随机点坐标是：21935,164228\n",
      "[ 0.00323708]\n",
      "取normal随机点坐标是：41771,163434\n",
      "[ 0.53507244]\n",
      "取tumor随机点坐标是：59003,138350\n",
      "[ 0.4910665]\n",
      "取normal随机点坐标是：50610,154446\n",
      "[ 0.63978302]\n",
      "取tumor随机点坐标是：58090,136433\n",
      "[ 0.06550344]\n",
      "取normal随机点坐标是：39052,143501\n",
      "[ 0.45040054]\n",
      "取normal随机点坐标是：31126,130212\n",
      "[ 0.07169748]\n",
      "取normal随机点坐标是：32425,156282\n",
      "[ 0.37769802]\n",
      "取normal随机点坐标是：25413,143585\n",
      "[ 0.9057011]\n",
      "取tumor随机点坐标是：58370,139653\n",
      "[ 0.74775262]\n",
      "取tumor随机点坐标是：58463,136675\n",
      "[ 0.54249554]\n",
      "取tumor随机点坐标是：58671,138236\n",
      "[ 0.70554536]\n",
      "取tumor随机点坐标是：58077,138335\n",
      "[ 0.65914937]\n",
      "取tumor随机点坐标是：57662,136647\n",
      "取tumor随机点坐标是：57712,136855\n",
      "取tumor随机点坐标是：59338,137177\n",
      "取tumor随机点坐标是：57707,139094\n",
      "取tumor随机点坐标是：58364,139138\n",
      "[ 0.57167467]\n",
      "取tumor随机点坐标是：57868,138632\n",
      "取tumor随机点坐标是：58787,136701\n",
      "取tumor随机点坐标是：58907,136674\n",
      "取tumor随机点坐标是：57846,137389\n",
      "[ 0.42462581]\n",
      "取normal随机点坐标是：28546,171177\n",
      "[ 0.08589165]\n",
      "取normal随机点坐标是：50669,158079\n",
      "[ 0.80853231]\n",
      "取tumor随机点坐标是：58582,139501\n",
      "[ 0.09759216]\n",
      "取normal随机点坐标是：20098,173804\n",
      "[ 0.3676488]\n",
      "取normal随机点坐标是：20609,151852\n",
      "[ 0.57054923]\n",
      "取tumor随机点坐标是：58736,136381\n",
      "[ 0.07752241]\n",
      "取normal随机点坐标是：38144,132691\n",
      "[ 0.90317857]\n",
      "取tumor随机点坐标是：57661,139535\n",
      "取tumor随机点坐标是：58556,137636\n",
      "[ 0.56679636]\n",
      "取tumor随机点坐标是：58446,139280\n",
      "[ 0.47025122]\n",
      "取normal随机点坐标是：31715,158693\n",
      "[ 0.74724269]\n",
      "取tumor随机点坐标是：58319,138650\n",
      "[ 0.40936616]\n",
      "取normal随机点坐标是：29201,167063\n",
      "[ 0.27488247]\n",
      "取normal随机点坐标是：34654,148470\n",
      "[ 0.64742882]\n",
      "取tumor随机点坐标是：58119,136496\n",
      "[ 0.44284227]\n",
      "取normal随机点坐标是：25781,126352\n",
      "[ 0.6792166]\n",
      "取tumor随机点坐标是：58877,136728\n",
      "取tumor随机点坐标是：59077,138027\n",
      "[ 0.76791741]\n",
      "取tumor随机点坐标是：57782,136703\n",
      "取tumor随机点坐标是：58604,138970\n"
     ]
    }
   ],
   "source": [
    "from __future__ import division\n",
    "import keras\n",
    "from keras.callbacks import CSVLogger\n",
    "import gc\n",
    "\n",
    "def train_model():\n",
    "    keras.backend.tensorflow_backend.clear_session()\n",
    "    epochs = 1\n",
    "    model = Creat_InvepV3()\n",
    "    csvlogger = CSVLogger('training.log', append=True)\n",
    "    model.fit_generator(data_generator(),\n",
    "                        steps_per_epoch=100,\n",
    "                        epochs=epochs,\n",
    "                        validation_data=data_generator(),\n",
    "                        validation_steps=20,\n",
    "                        verbose=0,\n",
    "                        callbacks=[csvlogger])\n",
    "    model.save('model.h5')\n",
    "    gc.collect()\n",
    "train_model()"
   ]
  },
  {
   "cell_type": "code",
   "execution_count": null,
   "metadata": {
    "collapsed": true
   },
   "outputs": [],
   "source": [
    "# samples = 16\n",
    "# batch_size = 16\n",
    "# nb_batch = samples//batch_size\n",
    "\n",
    "    model.fit_generator(generator5.train_gen(path),\n",
    "                        steps_per_epoch=1,\n",
    "                        max_q_size=1,\n",
    "                        epochs=epochs,\n",
    "                        validation_data=None,\n",
    "                        validation_steps=None,\n",
    "                        verbose=1,\n",
    "                        callbacks=[csvlogger])\n",
    "    model.save('model.h5')\n",
    "    gc.collect()\n",
    "train_model('camelyon/')"
   ]
  }
 ],
 "metadata": {
  "kernelspec": {
   "display_name": "Python 3",
   "language": "python",
   "name": "python3"
  },
  "language_info": {
   "codemirror_mode": {
    "name": "ipython",
    "version": 3
   },
   "file_extension": ".py",
   "mimetype": "text/x-python",
   "name": "python",
   "nbconvert_exporter": "python",
   "pygments_lexer": "ipython3",
   "version": "3.5.2"
  }
 },
 "nbformat": 4,
 "nbformat_minor": 2
}
